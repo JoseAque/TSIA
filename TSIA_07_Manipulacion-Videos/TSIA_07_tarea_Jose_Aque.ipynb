{
 "cells": [
  {
   "cell_type": "markdown",
   "metadata": {},
   "source": [
    "<!--Información del curso-->\n",
    "<img align=\"left\" style=\"padding-right:10px;\" src=\"figuras/banner_dl.png\">\n"
   ]
  },
  {
   "cell_type": "markdown",
   "metadata": {},
   "source": [
    "<br><br><center><h1 style=\"font-size:2em;color:#2467C0\"> Proyecto de OpenCV </h1></center>\n",
    "<br>\n",
    "<table>\n",
    "<col width=\"550\">\n",
    "<col width=\"450\">\n",
    "<tr>\n",
    "    \n",
    "    \n",
    "<td><img src=\"figuras/HarryPotter.jpg\" align=\"middle\" style=\"width:550px;\"/></td>\n",
    "<td>\n",
    "\n",
    "Hacer un efecto de capa invisible utilizando las funciones estudiadas hasta ahora para la manipulación de imágenes. \n",
    "\n",
    "\n",
    "https://youtu.be/fgetvh75NOA\n",
    "    \n",
    "    \n",
    "<br>\n",
    "</td>\n",
    "</tr>\n",
    "</table>"
   ]
  },
  {
   "cell_type": "markdown",
   "metadata": {},
   "source": [
    "Integrantes:\n",
    "* 1. Leonardo Yeret Ortiz Valle\n",
    "* 2. Aqué González José Manuel\n",
    "* 3. Dominguez Mora Obed\n",
    "\n"
   ]
  },
  {
   "cell_type": "markdown",
   "metadata": {},
   "source": [
    "# Intrucciones:\n",
    "\n",
    "1. Hacer un **efecto de capa invisible** utilizando las funciones estudiadas hasta ahora para la manipulación de imágenes. \n",
    "\n",
    "2. El video ha utilizar es: ‘videos/video_original.mp4’ \n",
    "\n",
    "3. Esta actividad puede realizarse individual o en equipos de hasta 3 integrantes.\n",
    "\n",
    "4. Deberá utilizar la misma estructura de archivos.  Al finalizar comprima toda su carpeta de trabajo y súbala a la plataforma. En caso de ser muy grande el archivo deberá subirlo a la nube y enviar el link para descargar. \n",
    "\n"
   ]
  },
  {
   "cell_type": "markdown",
   "metadata": {},
   "source": [
    "# 0. Librerías básicas"
   ]
  },
  {
   "cell_type": "code",
   "execution_count": 1,
   "metadata": {},
   "outputs": [],
   "source": [
    "#Librerías básicas de esta notebook\n",
    "import matplotlib.pyplot as plt\n",
    "import numpy as np\n",
    "import cv2 as cv"
   ]
  },
  {
   "cell_type": "code",
   "execution_count": 2,
   "metadata": {},
   "outputs": [],
   "source": [
    "\n",
    "cap = cv.VideoCapture('videos/video_original.mp4')\n",
    "\n",
    "bg = None\n",
    "\n",
    "# Factor de redimensionamiento\n",
    "fraccion = 0.5\n",
    "\n",
    "# Rango de verde en HSV (ajusta según tu trapo)\n",
    "verdeBajo = np.array([35, 50, 40], np.uint8)\n",
    "verdeAlto = np.array([85, 255, 255], np.uint8)\n",
    "\n",
    "while True:\n",
    "    ret, frame = cap.read()\n",
    "    if not ret:\n",
    "        break\n",
    "\n",
    "    # Redimensionar frame\n",
    "    columnas = int(frame.shape[1] * fraccion)\n",
    "    filas = int(frame.shape[0] * fraccion)\n",
    "    frame = cv.resize(frame, (columnas, filas), interpolation=cv.INTER_NEAREST)\n",
    "\n",
    "    # Capturar el primer frame como fondo\n",
    "    if bg is None:\n",
    "        bg = frame\n",
    "\n",
    "    frameHSV = cv.cvtColor(frame, cv.COLOR_BGR2HSV)\n",
    "\n",
    "    # Crear máscara para verde\n",
    "    mask = cv.inRange(frameHSV, verdeBajo, verdeAlto)\n",
    "    mask = cv.medianBlur(mask, 17)\n",
    "\n",
    "    # Dilatar para cubrir el área del trapo\n",
    "    kernel = np.ones((13,13), np.uint8)\n",
    "    mask = cv.dilate(mask, kernel, iterations=2)\n",
    "\n",
    "\n",
    "    # Área del fondo donde estaba el verde\n",
    "    areaColor = cv.bitwise_and(bg, bg, mask=mask)\n",
    "\n",
    "    # Invertir máscara para mantener lo que NO es verde\n",
    "    maskInv = cv.bitwise_not(mask)\n",
    "    sinAreaColor = cv.bitwise_and(frame, frame, mask=maskInv)\n",
    "\n",
    "    # Combinar ambas\n",
    "    finalFrame = cv.addWeighted(areaColor, 1, sinAreaColor, 1, 0)\n",
    "\n",
    "    #cv2.imshow('Frame Original', frame)\n",
    "    cv.imshow('Efecto Verde Invisible', finalFrame)\n",
    "\n",
    "    if cv.waitKey(1) & 0xFF == ord('q'):\n",
    "        break\n",
    "\n",
    "cap.release()\n",
    "cv.destroyAllWindows()\n"
   ]
  }
 ],
 "metadata": {
  "kernelspec": {
   "display_name": "3.10.11",
   "language": "python",
   "name": "python3"
  },
  "language_info": {
   "codemirror_mode": {
    "name": "ipython",
    "version": 3
   },
   "file_extension": ".py",
   "mimetype": "text/x-python",
   "name": "python",
   "nbconvert_exporter": "python",
   "pygments_lexer": "ipython3",
   "version": "3.10.11"
  }
 },
 "nbformat": 4,
 "nbformat_minor": 4
}
